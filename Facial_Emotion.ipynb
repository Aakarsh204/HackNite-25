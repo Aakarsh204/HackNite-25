{
  "nbformat": 4,
  "nbformat_minor": 0,
  "metadata": {
    "colab": {
      "provenance": [],
      "authorship_tag": "ABX9TyN8Np/FxCf2jilGJ8v3YtZh",
      "include_colab_link": true
    },
    "kernelspec": {
      "name": "python3",
      "display_name": "Python 3"
    },
    "language_info": {
      "name": "python"
    }
  },
  "cells": [
    {
      "cell_type": "markdown",
      "metadata": {
        "id": "view-in-github",
        "colab_type": "text"
      },
      "source": [
        "<a href=\"https://colab.research.google.com/github/Aakarsh204/HackNite-25/blob/main/Facial_Emotion.ipynb\" target=\"_parent\"><img src=\"https://colab.research.google.com/assets/colab-badge.svg\" alt=\"Open In Colab\"/></a>"
      ]
    },
    {
      "cell_type": "markdown",
      "source": [],
      "metadata": {
        "id": "aLNZjbZ7t053"
      }
    },
    {
      "cell_type": "code",
      "source": [
        "from deepface import DeepFace\n",
        "\n",
        "def analyze_emotion(image_path):\n",
        "    # Perform emotion analysis\n",
        "    analysis = DeepFace.analyze(img_path=image_path, actions=['emotion'], enforce_detection=False)\n",
        "\n",
        "    # Check if the result is a list\n",
        "    if isinstance(analysis, list):\n",
        "        for i, face_analysis in enumerate(analysis):\n",
        "            print(f\"Face {i+1}: Dominant Emotion - {face_analysis['dominant_emotion']}\")\n",
        "    else:\n",
        "        # Handle single-face case (if DeepFace returns a dictionary instead of a list)\n",
        "        print(\"Dominant Emotion:\", analysis['dominant_emotion'])\n",
        "\n",
        "# Test with an image containing faces\n",
        "analyze_emotion(\"/content/will-smith-actor-man-face-wallpaper-preview.jpg\")\n"
      ],
      "metadata": {
        "colab": {
          "base_uri": "https://localhost:8080/"
        },
        "id": "3mVqoCTJKS_e",
        "outputId": "16758bf8-c92d-4bb4-814e-d55b1584e4fb"
      },
      "execution_count": null,
      "outputs": [
        {
          "output_type": "stream",
          "name": "stdout",
          "text": [
            "Face 1: Dominant Emotion - neutral\n"
          ]
        }
      ]
    }
  ]
}